{
 "cells": [
  {
   "cell_type": "code",
   "execution_count": 73,
   "id": "aeab0012-a171-445c-8e8e-7188478071ae",
   "metadata": {},
   "outputs": [],
   "source": [
    "import pyautogui\n",
    "import time\n",
    "pyautogui.PAUSE = 0.2\n",
    "pyautogui.FAILSAFT = True"
   ]
  },
  {
   "cell_type": "code",
   "execution_count": 76,
   "id": "2830c85b-bf36-4a3d-8b6f-a1f95df767a0",
   "metadata": {},
   "outputs": [],
   "source": [
    "# scroll to find\n",
    "def scroll_find(name):\n",
    "    while True:\n",
    "        try:\n",
    "            coords = pyautogui.locateOnScreen('pic/xingdong.png', confidence=0.9)\n",
    "            print(coords)\n",
    "            if coords is not None:\n",
    "                x,y = pyautogui.center(coords)\n",
    "                pyautogui.leftClick(x,y)\n",
    "                print(11)\n",
    "                return\n",
    "        except Exception as e:\n",
    "            print(\"not found, scrolling up...\")\n",
    "            pyautogui.moveTo(1578,1187)\n",
    "            pyautogui.scroll(-600)  # scroll screen to find court\n",
    "            time.sleep(0.2)  # wait screen fresh"
   ]
  },
  {
   "cell_type": "code",
   "execution_count": 77,
   "id": "f559d123-8eba-4bb9-86b0-51e189653ace",
   "metadata": {},
   "outputs": [
    {
     "name": "stdout",
     "output_type": "stream",
     "text": [
      "Box(left=np.int64(916), top=np.int64(1158), width=1024, height=186)\n",
      "11\n"
     ]
    }
   ],
   "source": [
    "scroll_find('pic/xingdong.png')"
   ]
  },
  {
   "cell_type": "code",
   "execution_count": 71,
   "id": "58c01579-b610-4bc5-b572-c8e7388fb1a4",
   "metadata": {},
   "outputs": [
    {
     "name": "stdout",
     "output_type": "stream",
     "text": [
      "click pic/tennis.png\n",
      "not found, scrolling up...\n",
      "not found, scrolling up...\n",
      "not found, scrolling up...\n",
      "not found, scrolling up...\n",
      "not found, scrolling up...\n",
      "not found, scrolling up...\n",
      "not found, scrolling up...\n",
      "not found, scrolling up...\n",
      "not found, scrolling up...\n",
      "not found, scrolling up...\n",
      "not found, scrolling up...\n",
      "not found, scrolling up...\n",
      "not found, scrolling up...\n",
      "not found, scrolling up...\n",
      "not found, scrolling up...\n",
      "not found, scrolling up...\n",
      "not found, scrolling up...\n",
      "not found, scrolling up...\n",
      "not found, scrolling up...\n",
      "not found, scrolling up...\n",
      "not found, scrolling up...\n",
      "not found, scrolling up...\n",
      "not found, scrolling up...\n",
      "not found, scrolling up...\n",
      "not found, scrolling up...\n",
      "not found, scrolling up...\n",
      "not found, scrolling up...\n",
      "not found, scrolling up...\n",
      "not found, scrolling up...\n",
      "not found, scrolling up...\n",
      "not found, scrolling up...\n",
      "not found, scrolling up...\n",
      "not found, scrolling up...\n",
      "not found, scrolling up...\n",
      "not found, scrolling up...\n",
      "not found, scrolling up...\n",
      "not found, scrolling up...\n",
      "not found, scrolling up...\n",
      "not found, scrolling up...\n",
      "not found, scrolling up...\n",
      "not found, scrolling up...\n"
     ]
    },
    {
     "ename": "KeyboardInterrupt",
     "evalue": "",
     "output_type": "error",
     "traceback": [
      "\u001b[1;31m---------------------------------------------------------------------------\u001b[0m",
      "\u001b[1;31mOSError\u001b[0m                                   Traceback (most recent call last)",
      "Cell \u001b[1;32mIn[63], line 5\u001b[0m, in \u001b[0;36mscroll_find\u001b[1;34m(name)\u001b[0m\n\u001b[0;32m      4\u001b[0m \u001b[38;5;28;01mtry\u001b[39;00m:\n\u001b[1;32m----> 5\u001b[0m     coords \u001b[38;5;241m=\u001b[39m \u001b[43mpyautogui\u001b[49m\u001b[38;5;241;43m.\u001b[39;49m\u001b[43mlocateOnScreen\u001b[49m\u001b[43m(\u001b[49m\u001b[38;5;124;43m'\u001b[39;49m\u001b[38;5;124;43mxingdong.png\u001b[39;49m\u001b[38;5;124;43m'\u001b[39;49m\u001b[43m,\u001b[49m\u001b[43m \u001b[49m\u001b[43mconfidence\u001b[49m\u001b[38;5;241;43m=\u001b[39;49m\u001b[38;5;241;43m0.9\u001b[39;49m\u001b[43m)\u001b[49m\n\u001b[0;32m      6\u001b[0m     \u001b[38;5;28mprint\u001b[39m(coords)\n",
      "File \u001b[1;32m~\\AppData\\Local\\Programs\\Python\\Python311\\Lib\\site-packages\\pyautogui\\__init__.py:172\u001b[0m, in \u001b[0;36mraisePyAutoGUIImageNotFoundException.<locals>.wrapper\u001b[1;34m(*args, **kwargs)\u001b[0m\n\u001b[0;32m    171\u001b[0m \u001b[38;5;28;01mtry\u001b[39;00m:\n\u001b[1;32m--> 172\u001b[0m     \u001b[38;5;28;01mreturn\u001b[39;00m \u001b[43mwrappedFunction\u001b[49m\u001b[43m(\u001b[49m\u001b[38;5;241;43m*\u001b[39;49m\u001b[43margs\u001b[49m\u001b[43m,\u001b[49m\u001b[43m \u001b[49m\u001b[38;5;241;43m*\u001b[39;49m\u001b[38;5;241;43m*\u001b[39;49m\u001b[43mkwargs\u001b[49m\u001b[43m)\u001b[49m\n\u001b[0;32m    173\u001b[0m \u001b[38;5;28;01mexcept\u001b[39;00m pyscreeze\u001b[38;5;241m.\u001b[39mImageNotFoundException:\n",
      "File \u001b[1;32m~\\AppData\\Local\\Programs\\Python\\Python311\\Lib\\site-packages\\pyautogui\\__init__.py:210\u001b[0m, in \u001b[0;36mlocateOnScreen\u001b[1;34m(*args, **kwargs)\u001b[0m\n\u001b[0;32m    208\u001b[0m \u001b[38;5;129m@raisePyAutoGUIImageNotFoundException\u001b[39m\n\u001b[0;32m    209\u001b[0m \u001b[38;5;28;01mdef\u001b[39;00m \u001b[38;5;21mlocateOnScreen\u001b[39m(\u001b[38;5;241m*\u001b[39margs, \u001b[38;5;241m*\u001b[39m\u001b[38;5;241m*\u001b[39mkwargs):\n\u001b[1;32m--> 210\u001b[0m     \u001b[38;5;28;01mreturn\u001b[39;00m \u001b[43mpyscreeze\u001b[49m\u001b[38;5;241;43m.\u001b[39;49m\u001b[43mlocateOnScreen\u001b[49m\u001b[43m(\u001b[49m\u001b[38;5;241;43m*\u001b[39;49m\u001b[43margs\u001b[49m\u001b[43m,\u001b[49m\u001b[43m \u001b[49m\u001b[38;5;241;43m*\u001b[39;49m\u001b[38;5;241;43m*\u001b[39;49m\u001b[43mkwargs\u001b[49m\u001b[43m)\u001b[49m\n",
      "File \u001b[1;32m~\\AppData\\Local\\Programs\\Python\\Python311\\Lib\\site-packages\\pyscreeze\\__init__.py:405\u001b[0m, in \u001b[0;36mlocateOnScreen\u001b[1;34m(image, minSearchTime, **kwargs)\u001b[0m\n\u001b[0;32m    404\u001b[0m screenshotIm \u001b[38;5;241m=\u001b[39m screenshot(region\u001b[38;5;241m=\u001b[39m\u001b[38;5;28;01mNone\u001b[39;00m)\n\u001b[1;32m--> 405\u001b[0m retVal \u001b[38;5;241m=\u001b[39m \u001b[43mlocate\u001b[49m\u001b[43m(\u001b[49m\u001b[43mimage\u001b[49m\u001b[43m,\u001b[49m\u001b[43m \u001b[49m\u001b[43mscreenshotIm\u001b[49m\u001b[43m,\u001b[49m\u001b[43m \u001b[49m\u001b[38;5;241;43m*\u001b[39;49m\u001b[38;5;241;43m*\u001b[39;49m\u001b[43mkwargs\u001b[49m\u001b[43m)\u001b[49m\n\u001b[0;32m    406\u001b[0m \u001b[38;5;28;01mtry\u001b[39;00m:\n",
      "File \u001b[1;32m~\\AppData\\Local\\Programs\\Python\\Python311\\Lib\\site-packages\\pyscreeze\\__init__.py:383\u001b[0m, in \u001b[0;36mlocate\u001b[1;34m(needleImage, haystackImage, **kwargs)\u001b[0m\n\u001b[0;32m    382\u001b[0m kwargs[\u001b[38;5;124m'\u001b[39m\u001b[38;5;124mlimit\u001b[39m\u001b[38;5;124m'\u001b[39m] \u001b[38;5;241m=\u001b[39m \u001b[38;5;241m1\u001b[39m\n\u001b[1;32m--> 383\u001b[0m points \u001b[38;5;241m=\u001b[39m \u001b[38;5;28mtuple\u001b[39m(locateAll(needleImage, haystackImage, \u001b[38;5;241m*\u001b[39m\u001b[38;5;241m*\u001b[39mkwargs))\n\u001b[0;32m    384\u001b[0m \u001b[38;5;28;01mif\u001b[39;00m \u001b[38;5;28mlen\u001b[39m(points) \u001b[38;5;241m>\u001b[39m \u001b[38;5;241m0\u001b[39m:\n",
      "File \u001b[1;32m~\\AppData\\Local\\Programs\\Python\\Python311\\Lib\\site-packages\\pyscreeze\\__init__.py:231\u001b[0m, in \u001b[0;36m_locateAll_opencv\u001b[1;34m(needleImage, haystackImage, grayscale, limit, region, step, confidence)\u001b[0m\n\u001b[0;32m    229\u001b[0m confidence \u001b[38;5;241m=\u001b[39m \u001b[38;5;28mfloat\u001b[39m(confidence)\n\u001b[1;32m--> 231\u001b[0m needleImage \u001b[38;5;241m=\u001b[39m \u001b[43m_load_cv2\u001b[49m\u001b[43m(\u001b[49m\u001b[43mneedleImage\u001b[49m\u001b[43m,\u001b[49m\u001b[43m \u001b[49m\u001b[43mgrayscale\u001b[49m\u001b[43m)\u001b[49m\n\u001b[0;32m    232\u001b[0m needleHeight, needleWidth \u001b[38;5;241m=\u001b[39m needleImage\u001b[38;5;241m.\u001b[39mshape[:\u001b[38;5;241m2\u001b[39m]\n",
      "File \u001b[1;32m~\\AppData\\Local\\Programs\\Python\\Python311\\Lib\\site-packages\\pyscreeze\\__init__.py:193\u001b[0m, in \u001b[0;36m_load_cv2\u001b[1;34m(img, grayscale)\u001b[0m\n\u001b[0;32m    192\u001b[0m     \u001b[38;5;28;01mif\u001b[39;00m img_cv \u001b[38;5;129;01mis\u001b[39;00m \u001b[38;5;28;01mNone\u001b[39;00m:\n\u001b[1;32m--> 193\u001b[0m         \u001b[38;5;28;01mraise\u001b[39;00m \u001b[38;5;167;01mIOError\u001b[39;00m(\n\u001b[0;32m    194\u001b[0m             \u001b[38;5;124m\"\u001b[39m\u001b[38;5;124mFailed to read \u001b[39m\u001b[38;5;132;01m%s\u001b[39;00m\u001b[38;5;124m because file is missing, \u001b[39m\u001b[38;5;124m\"\u001b[39m\n\u001b[0;32m    195\u001b[0m             \u001b[38;5;124m\"\u001b[39m\u001b[38;5;124mhas improper permissions, or is an \u001b[39m\u001b[38;5;124m\"\u001b[39m\n\u001b[0;32m    196\u001b[0m             \u001b[38;5;124m\"\u001b[39m\u001b[38;5;124munsupported or invalid format\u001b[39m\u001b[38;5;124m\"\u001b[39m \u001b[38;5;241m%\u001b[39m img\n\u001b[0;32m    197\u001b[0m         )\n\u001b[0;32m    198\u001b[0m \u001b[38;5;28;01melif\u001b[39;00m \u001b[38;5;28misinstance\u001b[39m(img, numpy\u001b[38;5;241m.\u001b[39mndarray):\n\u001b[0;32m    199\u001b[0m     \u001b[38;5;66;03m# don't try to convert an already-gray image to gray\u001b[39;00m\n",
      "\u001b[1;31mOSError\u001b[0m: Failed to read xingdong.png because file is missing, has improper permissions, or is an unsupported or invalid format",
      "\nDuring handling of the above exception, another exception occurred:\n",
      "\u001b[1;31mKeyboardInterrupt\u001b[0m                         Traceback (most recent call last)",
      "Cell \u001b[1;32mIn[71], line 5\u001b[0m\n\u001b[0;32m      2\u001b[0m \u001b[38;5;28;01mfor\u001b[39;00m i \u001b[38;5;129;01min\u001b[39;00m imagelist:\n\u001b[0;32m      3\u001b[0m     \u001b[38;5;66;03m#scroll to find court\u001b[39;00m\n\u001b[0;32m      4\u001b[0m     \u001b[38;5;28;01mif\u001b[39;00m(i\u001b[38;5;241m==\u001b[39m\u001b[38;5;124m'\u001b[39m\u001b[38;5;124mpic/xingdong.png\u001b[39m\u001b[38;5;124m'\u001b[39m):\n\u001b[1;32m----> 5\u001b[0m         \u001b[43mscroll_find\u001b[49m\u001b[43m(\u001b[49m\u001b[38;5;124;43m'\u001b[39;49m\u001b[38;5;124;43mpic/xingdong.png\u001b[39;49m\u001b[38;5;124;43m'\u001b[39;49m\u001b[43m)\u001b[49m\n\u001b[0;32m      6\u001b[0m         \u001b[38;5;28;01mcontinue\u001b[39;00m\n\u001b[0;32m      8\u001b[0m     \u001b[38;5;28;01mtry\u001b[39;00m:\n",
      "Cell \u001b[1;32mIn[63], line 13\u001b[0m, in \u001b[0;36mscroll_find\u001b[1;34m(name)\u001b[0m\n\u001b[0;32m     11\u001b[0m \u001b[38;5;28;01mexcept\u001b[39;00m \u001b[38;5;167;01mException\u001b[39;00m \u001b[38;5;28;01mas\u001b[39;00m e:\n\u001b[0;32m     12\u001b[0m     \u001b[38;5;28mprint\u001b[39m(\u001b[38;5;124m\"\u001b[39m\u001b[38;5;124mnot found, scrolling up...\u001b[39m\u001b[38;5;124m\"\u001b[39m)\n\u001b[1;32m---> 13\u001b[0m     \u001b[43mpyautogui\u001b[49m\u001b[38;5;241;43m.\u001b[39;49m\u001b[43mmoveTo\u001b[49m\u001b[43m(\u001b[49m\u001b[38;5;241;43m1578\u001b[39;49m\u001b[43m,\u001b[49m\u001b[38;5;241;43m1187\u001b[39;49m\u001b[43m)\u001b[49m\n\u001b[0;32m     14\u001b[0m     pyautogui\u001b[38;5;241m.\u001b[39mscroll(\u001b[38;5;241m-\u001b[39m\u001b[38;5;241m600\u001b[39m)  \u001b[38;5;66;03m# 向上滚动屏幕\u001b[39;00m\n\u001b[0;32m     15\u001b[0m     time\u001b[38;5;241m.\u001b[39msleep(\u001b[38;5;241m0.2\u001b[39m)\n",
      "File \u001b[1;32m~\\AppData\\Local\\Programs\\Python\\Python311\\Lib\\site-packages\\pyautogui\\__init__.py:595\u001b[0m, in \u001b[0;36m_genericPyAutoGUIChecks.<locals>.wrapper\u001b[1;34m(*args, **kwargs)\u001b[0m\n\u001b[0;32m    593\u001b[0m failSafeCheck()\n\u001b[0;32m    594\u001b[0m returnVal \u001b[38;5;241m=\u001b[39m wrappedFunction(\u001b[38;5;241m*\u001b[39margs, \u001b[38;5;241m*\u001b[39m\u001b[38;5;241m*\u001b[39mkwargs)\n\u001b[1;32m--> 595\u001b[0m \u001b[43m_handlePause\u001b[49m\u001b[43m(\u001b[49m\u001b[43mkwargs\u001b[49m\u001b[38;5;241;43m.\u001b[39;49m\u001b[43mget\u001b[49m\u001b[43m(\u001b[49m\u001b[38;5;124;43m\"\u001b[39;49m\u001b[38;5;124;43m_pause\u001b[39;49m\u001b[38;5;124;43m\"\u001b[39;49m\u001b[43m,\u001b[49m\u001b[43m \u001b[49m\u001b[38;5;28;43;01mTrue\u001b[39;49;00m\u001b[43m)\u001b[49m\u001b[43m)\u001b[49m\n\u001b[0;32m    596\u001b[0m \u001b[38;5;28;01mreturn\u001b[39;00m returnVal\n",
      "File \u001b[1;32m~\\AppData\\Local\\Programs\\Python\\Python311\\Lib\\site-packages\\pyautogui\\__init__.py:639\u001b[0m, in \u001b[0;36m_handlePause\u001b[1;34m(_pause)\u001b[0m\n\u001b[0;32m    637\u001b[0m \u001b[38;5;28;01mif\u001b[39;00m _pause:\n\u001b[0;32m    638\u001b[0m     \u001b[38;5;28;01massert\u001b[39;00m \u001b[38;5;28misinstance\u001b[39m(PAUSE, \u001b[38;5;28mint\u001b[39m) \u001b[38;5;129;01mor\u001b[39;00m \u001b[38;5;28misinstance\u001b[39m(PAUSE, \u001b[38;5;28mfloat\u001b[39m)\n\u001b[1;32m--> 639\u001b[0m     time\u001b[38;5;241m.\u001b[39msleep(PAUSE)\n",
      "\u001b[1;31mKeyboardInterrupt\u001b[0m: "
     ]
    }
   ],
   "source": [
    "imagelist = ['pic/tennis.png','pic/xingdong.png','pic/book.png','pic/next.png']\n",
    "for i in imagelist:\n",
    "    #scroll to find court\n",
    "    if(i=='pic/xingdong.png'):\n",
    "        scroll_find('pic/xingdong.png')\n",
    "        continue\n",
    "\n",
    "    try:\n",
    "        coords = pyautogui.locateOnScreen(i,confidence=0.8)\n",
    "        x,y = pyautogui.center(coords)\n",
    "        pyautogui.leftClick(x,y)\n",
    "        print('click',i)\n",
    "        \n",
    "        # after clicking book.png, we need to scroll and click time\n",
    "        if(i=='pic/book.png'):\n",
    "            #click next day\n",
    "            pyautogui.leftClick(1480,303)\n",
    "\n",
    "            #select time\n",
    "            pyautogui.moveTo(1578,1187)\n",
    "            pyautogui.scroll(-300)\n",
    "            pyautogui.leftClick(1578,1187)\n",
    "            print(\"click time\")\n",
    "    except Exception as e:\n",
    "        print('not found',i)"
   ]
  },
  {
   "cell_type": "code",
   "execution_count": null,
   "id": "df79fa35-458a-4aa4-89ea-ed3d49be9135",
   "metadata": {},
   "outputs": [],
   "source": []
  }
 ],
 "metadata": {
  "kernelspec": {
   "display_name": "Python 3 (ipykernel)",
   "language": "python",
   "name": "python3"
  },
  "language_info": {
   "codemirror_mode": {
    "name": "ipython",
    "version": 3
   },
   "file_extension": ".py",
   "mimetype": "text/x-python",
   "name": "python",
   "nbconvert_exporter": "python",
   "pygments_lexer": "ipython3",
   "version": "3.11.9"
  }
 },
 "nbformat": 4,
 "nbformat_minor": 5
}
