{
 "cells": [
  {
   "cell_type": "code",
   "execution_count": null,
   "id": "78a1518a-22a0-4499-b23e-012bcec6b380",
   "metadata": {},
   "outputs": [],
   "source": [
    "import pyautogui\n",
    "import time"
   ]
  },
  {
   "cell_type": "code",
   "execution_count": null,
   "id": "b7739e0b-59bd-4326-b9bc-0a5dad77336a",
   "metadata": {},
   "outputs": [],
   "source": [
    "#get the position of mouse\n",
    "try:\n",
    "    while True:\n",
    "        x, y = pyautogui.position()\n",
    "        print(f\"\\rMouse position: x={x}, y={y}  \", end='')  # 添加额外空格以清除残留数据\n",
    "        time.sleep(0.1)  # 每0.1秒更新一次\n",
    "except KeyboardInterrupt:\n",
    "    print(\"\\nStopped.\")"
   ]
  }
 ],
 "metadata": {
  "kernelspec": {
   "display_name": "Python 3 (ipykernel)",
   "language": "python",
   "name": "python3"
  },
  "language_info": {
   "codemirror_mode": {
    "name": "ipython",
    "version": 3
   },
   "file_extension": ".py",
   "mimetype": "text/x-python",
   "name": "python",
   "nbconvert_exporter": "python",
   "pygments_lexer": "ipython3",
   "version": "3.11.9"
  }
 },
 "nbformat": 4,
 "nbformat_minor": 5
}
