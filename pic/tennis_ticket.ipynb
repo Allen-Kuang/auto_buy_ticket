{
 "cells": [
  {
   "cell_type": "code",
   "execution_count": 62,
   "id": "aeab0012-a171-445c-8e8e-7188478071ae",
   "metadata": {},
   "outputs": [],
   "source": [
    "import pyautogui\n",
    "import time\n",
    "pyautogui.PAUSE = 0.2\n",
    "pyautogui.FAILSAFT = True"
   ]
  },
  {
   "cell_type": "code",
   "execution_count": 63,
   "id": "2830c85b-bf36-4a3d-8b6f-a1f95df767a0",
   "metadata": {},
   "outputs": [],
   "source": [
    "# scroll to find\n",
    "def scroll_find(name):\n",
    "    while True:\n",
    "        try:\n",
    "            coords = pyautogui.locateOnScreen('xingdong.png', confidence=0.9)\n",
    "            print(coords)\n",
    "            if coords is not None:\n",
    "                x,y = pyautogui.center(coords)\n",
    "                pyautogui.leftClick(x,y)\n",
    "                return\n",
    "        except Exception as e:\n",
    "            print(\"not found, scrolling up...\")\n",
    "            pyautogui.moveTo(1578,1187)\n",
    "            pyautogui.scroll(-600)  # scroll screen to find court\n",
    "            time.sleep(0.2)  # wait screen fresh"
   ]
  },
  {
   "cell_type": "code",
   "execution_count": 70,
   "id": "58c01579-b610-4bc5-b572-c8e7388fb1a4",
   "metadata": {},
   "outputs": [
    {
     "name": "stdout",
     "output_type": "stream",
     "text": [
      "click tennis.png\n",
      "not found, scrolling up...\n",
      "not found, scrolling up...\n",
      "Box(left=np.int64(916), top=np.int64(1177), width=1024, height=186)\n",
      "click book.png\n",
      "click time\n",
      "click next.png\n"
     ]
    }
   ],
   "source": [
    "imagelist = ['tennis.png','xingdong.png','book.png','next.png']\n",
    "for i in imagelist:\n",
    "    #scroll to find court\n",
    "    if(i=='xingdong.png'):\n",
    "        scroll_find('xingdong.png')\n",
    "        continue\n",
    "\n",
    "    try:\n",
    "        coords = pyautogui.locateOnScreen(i,confidence=0.8)\n",
    "        x,y = pyautogui.center(coords)\n",
    "        pyautogui.leftClick(x,y)\n",
    "        print('click',i)\n",
    "        \n",
    "        # after clicking book.png, we need to scroll and click time\n",
    "        if(i=='book.png'):\n",
    "            #click next day\n",
    "            pyautogui.leftClick(1480,303)\n",
    "\n",
    "            #select time\n",
    "            pyautogui.moveTo(1578,1187)\n",
    "            pyautogui.scroll(-300)\n",
    "            pyautogui.leftClick(1578,1187)\n",
    "            print(\"click time\")\n",
    "    except Exception as e:\n",
    "        print('not found',i)"
   ]
  },
  {
   "cell_type": "code",
   "execution_count": null,
   "id": "df79fa35-458a-4aa4-89ea-ed3d49be9135",
   "metadata": {},
   "outputs": [],
   "source": []
  }
 ],
 "metadata": {
  "kernelspec": {
   "display_name": "Python 3 (ipykernel)",
   "language": "python",
   "name": "python3"
  },
  "language_info": {
   "codemirror_mode": {
    "name": "ipython",
    "version": 3
   },
   "file_extension": ".py",
   "mimetype": "text/x-python",
   "name": "python",
   "nbconvert_exporter": "python",
   "pygments_lexer": "ipython3",
   "version": "3.11.9"
  }
 },
 "nbformat": 4,
 "nbformat_minor": 5
}
